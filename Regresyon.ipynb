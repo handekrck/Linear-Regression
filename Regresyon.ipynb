{
 "cells": [
  {
   "cell_type": "code",
   "execution_count": 1,
   "metadata": {},
   "outputs": [],
   "source": [
    "import numpy as np\n",
    "import pandas as pd\n",
    "from matplotlib import pyplot as plt\n",
    "import warnings"
   ]
  },
  {
   "cell_type": "code",
   "execution_count": 4,
   "metadata": {},
   "outputs": [],
   "source": [
    "warnings.filterwarnings('ignore')"
   ]
  },
  {
   "cell_type": "code",
   "execution_count": 5,
   "metadata": {},
   "outputs": [
    {
     "data": {
      "text/html": [
       "<div>\n",
       "<style scoped>\n",
       "    .dataframe tbody tr th:only-of-type {\n",
       "        vertical-align: middle;\n",
       "    }\n",
       "\n",
       "    .dataframe tbody tr th {\n",
       "        vertical-align: top;\n",
       "    }\n",
       "\n",
       "    .dataframe thead th {\n",
       "        text-align: right;\n",
       "    }\n",
       "</style>\n",
       "<table border=\"1\" class=\"dataframe\">\n",
       "  <thead>\n",
       "    <tr style=\"text-align: right;\">\n",
       "      <th></th>\n",
       "      <th>2007</th>\n",
       "      <th>2008</th>\n",
       "      <th>2009</th>\n",
       "      <th>2010</th>\n",
       "      <th>2011</th>\n",
       "      <th>2012</th>\n",
       "      <th>2013</th>\n",
       "      <th>2014</th>\n",
       "      <th>2015</th>\n",
       "      <th>2016</th>\n",
       "      <th>2017</th>\n",
       "      <th>2018</th>\n",
       "    </tr>\n",
       "    <tr>\n",
       "      <th>GEO (Labels)</th>\n",
       "      <th></th>\n",
       "      <th></th>\n",
       "      <th></th>\n",
       "      <th></th>\n",
       "      <th></th>\n",
       "      <th></th>\n",
       "      <th></th>\n",
       "      <th></th>\n",
       "      <th></th>\n",
       "      <th></th>\n",
       "      <th></th>\n",
       "      <th></th>\n",
       "    </tr>\n",
       "  </thead>\n",
       "  <tbody>\n",
       "    <tr>\n",
       "      <th>Belgium</th>\n",
       "      <td>290.50</td>\n",
       "      <td>292.07</td>\n",
       "      <td>292.48</td>\n",
       "      <td>291.34</td>\n",
       "      <td>291.55</td>\n",
       "      <td>293.36</td>\n",
       "      <td>295.71</td>\n",
       "      <td>297.55</td>\n",
       "      <td>301.75</td>\n",
       "      <td>307.41</td>\n",
       "      <td>308.29</td>\n",
       "      <td>312.96</td>\n",
       "    </tr>\n",
       "    <tr>\n",
       "      <th>Bulgaria</th>\n",
       "      <td>369.53</td>\n",
       "      <td>366.42</td>\n",
       "      <td>375.47</td>\n",
       "      <td>378.10</td>\n",
       "      <td>386.26</td>\n",
       "      <td>391.45</td>\n",
       "      <td>397.67</td>\n",
       "      <td>398.69</td>\n",
       "      <td>404.54</td>\n",
       "      <td>413.76</td>\n",
       "      <td>424.49</td>\n",
       "      <td>421.71</td>\n",
       "    </tr>\n",
       "    <tr>\n",
       "      <th>Czechia</th>\n",
       "      <td>357.47</td>\n",
       "      <td>355.54</td>\n",
       "      <td>357.63</td>\n",
       "      <td>359.55</td>\n",
       "      <td>363.67</td>\n",
       "      <td>367.47</td>\n",
       "      <td>368.79</td>\n",
       "      <td>NaN</td>\n",
       "      <td>NaN</td>\n",
       "      <td>NaN</td>\n",
       "      <td>NaN</td>\n",
       "      <td>403.76</td>\n",
       "    </tr>\n",
       "    <tr>\n",
       "      <th>Denmark</th>\n",
       "      <td>345.81</td>\n",
       "      <td>357.94</td>\n",
       "      <td>365.12</td>\n",
       "      <td>372.59</td>\n",
       "      <td>378.92</td>\n",
       "      <td>383.76</td>\n",
       "      <td>384.94</td>\n",
       "      <td>387.74</td>\n",
       "      <td>392.93</td>\n",
       "      <td>399.82</td>\n",
       "      <td>410.89</td>\n",
       "      <td>419.44</td>\n",
       "    </tr>\n",
       "    <tr>\n",
       "      <th>Germany (until 1990 former territory of the FRG)</th>\n",
       "      <td>348.63</td>\n",
       "      <td>354.06</td>\n",
       "      <td>361.89</td>\n",
       "      <td>374.81</td>\n",
       "      <td>387.70</td>\n",
       "      <td>394.64</td>\n",
       "      <td>403.50</td>\n",
       "      <td>410.82</td>\n",
       "      <td>413.93</td>\n",
       "      <td>418.65</td>\n",
       "      <td>424.88</td>\n",
       "      <td>431.09</td>\n",
       "    </tr>\n",
       "  </tbody>\n",
       "</table>\n",
       "</div>"
      ],
      "text/plain": [
       "                                                    2007    2008    2009  \\\n",
       "GEO (Labels)                                                               \n",
       "Belgium                                           290.50  292.07  292.48   \n",
       "Bulgaria                                          369.53  366.42  375.47   \n",
       "Czechia                                           357.47  355.54  357.63   \n",
       "Denmark                                           345.81  357.94  365.12   \n",
       "Germany (until 1990 former territory of the FRG)  348.63  354.06  361.89   \n",
       "\n",
       "                                                    2010    2011    2012  \\\n",
       "GEO (Labels)                                                               \n",
       "Belgium                                           291.34  291.55  293.36   \n",
       "Bulgaria                                          378.10  386.26  391.45   \n",
       "Czechia                                           359.55  363.67  367.47   \n",
       "Denmark                                           372.59  378.92  383.76   \n",
       "Germany (until 1990 former territory of the FRG)  374.81  387.70  394.64   \n",
       "\n",
       "                                                    2013    2014    2015  \\\n",
       "GEO (Labels)                                                               \n",
       "Belgium                                           295.71  297.55  301.75   \n",
       "Bulgaria                                          397.67  398.69  404.54   \n",
       "Czechia                                           368.79     NaN     NaN   \n",
       "Denmark                                           384.94  387.74  392.93   \n",
       "Germany (until 1990 former territory of the FRG)  403.50  410.82  413.93   \n",
       "\n",
       "                                                    2016    2017    2018  \n",
       "GEO (Labels)                                                              \n",
       "Belgium                                           307.41  308.29  312.96  \n",
       "Bulgaria                                          413.76  424.49  421.71  \n",
       "Czechia                                              NaN     NaN  403.76  \n",
       "Denmark                                           399.82  410.89  419.44  \n",
       "Germany (until 1990 former territory of the FRG)  418.65  424.88  431.09  "
      ]
     },
     "execution_count": 5,
     "metadata": {},
     "output_type": "execute_result"
    }
   ],
   "source": [
    "df = pd.read_excel(\"timeseries.xlsx\")\n",
    "df = df.set_index(\"GEO (Labels)\")\n",
    "df.shape # 37x12 = 444 --> N\n",
    "df.head()"
   ]
  },
  {
   "cell_type": "code",
   "execution_count": 6,
   "metadata": {},
   "outputs": [],
   "source": [
    "df.isnull().sum().sum() # 99 nan varsa N = 444-99 = 345\n",
    "pop = 345"
   ]
  },
  {
   "cell_type": "code",
   "execution_count": 7,
   "metadata": {},
   "outputs": [
    {
     "data": {
      "text/html": [
       "<div>\n",
       "<style scoped>\n",
       "    .dataframe tbody tr th:only-of-type {\n",
       "        vertical-align: middle;\n",
       "    }\n",
       "\n",
       "    .dataframe tbody tr th {\n",
       "        vertical-align: top;\n",
       "    }\n",
       "\n",
       "    .dataframe thead th {\n",
       "        text-align: right;\n",
       "    }\n",
       "</style>\n",
       "<table border=\"1\" class=\"dataframe\">\n",
       "  <thead>\n",
       "    <tr style=\"text-align: right;\">\n",
       "      <th></th>\n",
       "      <th>2007</th>\n",
       "      <th>2008</th>\n",
       "      <th>2009</th>\n",
       "      <th>2010</th>\n",
       "      <th>2011</th>\n",
       "      <th>2012</th>\n",
       "      <th>2013</th>\n",
       "      <th>2014</th>\n",
       "      <th>2015</th>\n",
       "      <th>2016</th>\n",
       "      <th>2017</th>\n",
       "      <th>2018</th>\n",
       "    </tr>\n",
       "  </thead>\n",
       "  <tbody>\n",
       "    <tr>\n",
       "      <th>count</th>\n",
       "      <td>28.000000</td>\n",
       "      <td>27.000000</td>\n",
       "      <td>29.000000</td>\n",
       "      <td>29.000000</td>\n",
       "      <td>30.000000</td>\n",
       "      <td>30.000000</td>\n",
       "      <td>30.000000</td>\n",
       "      <td>29.000000</td>\n",
       "      <td>28.000000</td>\n",
       "      <td>29.000000</td>\n",
       "      <td>29.000000</td>\n",
       "      <td>27.000000</td>\n",
       "    </tr>\n",
       "    <tr>\n",
       "      <th>mean</th>\n",
       "      <td>305.800714</td>\n",
       "      <td>317.599259</td>\n",
       "      <td>312.637931</td>\n",
       "      <td>317.460690</td>\n",
       "      <td>320.879667</td>\n",
       "      <td>326.057667</td>\n",
       "      <td>331.740667</td>\n",
       "      <td>344.245172</td>\n",
       "      <td>349.477143</td>\n",
       "      <td>354.922759</td>\n",
       "      <td>362.216552</td>\n",
       "      <td>373.644444</td>\n",
       "    </tr>\n",
       "    <tr>\n",
       "      <th>std</th>\n",
       "      <td>73.838985</td>\n",
       "      <td>64.662468</td>\n",
       "      <td>72.651263</td>\n",
       "      <td>73.511294</td>\n",
       "      <td>74.711789</td>\n",
       "      <td>74.981785</td>\n",
       "      <td>76.058535</td>\n",
       "      <td>65.554110</td>\n",
       "      <td>65.984802</td>\n",
       "      <td>65.486793</td>\n",
       "      <td>66.693354</td>\n",
       "      <td>62.701895</td>\n",
       "    </tr>\n",
       "    <tr>\n",
       "      <th>min</th>\n",
       "      <td>122.090000</td>\n",
       "      <td>209.780000</td>\n",
       "      <td>124.880000</td>\n",
       "      <td>124.960000</td>\n",
       "      <td>123.160000</td>\n",
       "      <td>127.430000</td>\n",
       "      <td>128.110000</td>\n",
       "      <td>217.110000</td>\n",
       "      <td>232.810000</td>\n",
       "      <td>241.580000</td>\n",
       "      <td>237.750000</td>\n",
       "      <td>276.410000</td>\n",
       "    </tr>\n",
       "    <tr>\n",
       "      <th>25%</th>\n",
       "      <td>263.297500</td>\n",
       "      <td>271.805000</td>\n",
       "      <td>270.400000</td>\n",
       "      <td>286.380000</td>\n",
       "      <td>281.245000</td>\n",
       "      <td>283.812500</td>\n",
       "      <td>286.215000</td>\n",
       "      <td>301.200000</td>\n",
       "      <td>307.727500</td>\n",
       "      <td>307.410000</td>\n",
       "      <td>310.110000</td>\n",
       "      <td>322.875000</td>\n",
       "    </tr>\n",
       "    <tr>\n",
       "      <th>50%</th>\n",
       "      <td>310.860000</td>\n",
       "      <td>323.330000</td>\n",
       "      <td>304.740000</td>\n",
       "      <td>308.560000</td>\n",
       "      <td>310.205000</td>\n",
       "      <td>315.425000</td>\n",
       "      <td>322.690000</td>\n",
       "      <td>335.880000</td>\n",
       "      <td>345.315000</td>\n",
       "      <td>345.650000</td>\n",
       "      <td>360.330000</td>\n",
       "      <td>366.960000</td>\n",
       "    </tr>\n",
       "    <tr>\n",
       "      <th>75%</th>\n",
       "      <td>361.705000</td>\n",
       "      <td>365.305000</td>\n",
       "      <td>365.120000</td>\n",
       "      <td>375.790000</td>\n",
       "      <td>383.460000</td>\n",
       "      <td>386.445000</td>\n",
       "      <td>388.742500</td>\n",
       "      <td>388.040000</td>\n",
       "      <td>395.832500</td>\n",
       "      <td>399.820000</td>\n",
       "      <td>410.890000</td>\n",
       "      <td>413.380000</td>\n",
       "    </tr>\n",
       "    <tr>\n",
       "      <th>max</th>\n",
       "      <td>453.780000</td>\n",
       "      <td>460.410000</td>\n",
       "      <td>468.910000</td>\n",
       "      <td>479.530000</td>\n",
       "      <td>484.220000</td>\n",
       "      <td>489.540000</td>\n",
       "      <td>498.850000</td>\n",
       "      <td>504.610000</td>\n",
       "      <td>509.120000</td>\n",
       "      <td>512.960000</td>\n",
       "      <td>518.280000</td>\n",
       "      <td>524.140000</td>\n",
       "    </tr>\n",
       "  </tbody>\n",
       "</table>\n",
       "</div>"
      ],
      "text/plain": [
       "             2007        2008        2009        2010        2011        2012  \\\n",
       "count   28.000000   27.000000   29.000000   29.000000   30.000000   30.000000   \n",
       "mean   305.800714  317.599259  312.637931  317.460690  320.879667  326.057667   \n",
       "std     73.838985   64.662468   72.651263   73.511294   74.711789   74.981785   \n",
       "min    122.090000  209.780000  124.880000  124.960000  123.160000  127.430000   \n",
       "25%    263.297500  271.805000  270.400000  286.380000  281.245000  283.812500   \n",
       "50%    310.860000  323.330000  304.740000  308.560000  310.205000  315.425000   \n",
       "75%    361.705000  365.305000  365.120000  375.790000  383.460000  386.445000   \n",
       "max    453.780000  460.410000  468.910000  479.530000  484.220000  489.540000   \n",
       "\n",
       "             2013        2014        2015        2016        2017        2018  \n",
       "count   30.000000   29.000000   28.000000   29.000000   29.000000   27.000000  \n",
       "mean   331.740667  344.245172  349.477143  354.922759  362.216552  373.644444  \n",
       "std     76.058535   65.554110   65.984802   65.486793   66.693354   62.701895  \n",
       "min    128.110000  217.110000  232.810000  241.580000  237.750000  276.410000  \n",
       "25%    286.215000  301.200000  307.727500  307.410000  310.110000  322.875000  \n",
       "50%    322.690000  335.880000  345.315000  345.650000  360.330000  366.960000  \n",
       "75%    388.742500  388.040000  395.832500  399.820000  410.890000  413.380000  \n",
       "max    498.850000  504.610000  509.120000  512.960000  518.280000  524.140000  "
      ]
     },
     "execution_count": 7,
     "metadata": {},
     "output_type": "execute_result"
    }
   ],
   "source": [
    "describe = df.describe()\n",
    "describe"
   ]
  },
  {
   "cell_type": "code",
   "execution_count": 10,
   "metadata": {},
   "outputs": [
    {
     "data": {
      "text/plain": [
       "334.7235553579031"
      ]
     },
     "execution_count": 10,
     "metadata": {},
     "output_type": "execute_result"
    }
   ],
   "source": [
    "pop_mean= describe.iloc[1]\n",
    "pop_mean_value = pop_mean.mean()\n",
    "pop_mean_value"
   ]
  },
  {
   "cell_type": "code",
   "execution_count": 36,
   "metadata": {},
   "outputs": [
    {
     "data": {
      "text/html": [
       "<div>\n",
       "<style scoped>\n",
       "    .dataframe tbody tr th:only-of-type {\n",
       "        vertical-align: middle;\n",
       "    }\n",
       "\n",
       "    .dataframe tbody tr th {\n",
       "        vertical-align: top;\n",
       "    }\n",
       "\n",
       "    .dataframe thead th {\n",
       "        text-align: right;\n",
       "    }\n",
       "</style>\n",
       "<table border=\"1\" class=\"dataframe\">\n",
       "  <thead>\n",
       "    <tr style=\"text-align: right;\">\n",
       "      <th></th>\n",
       "      <th>mean</th>\n",
       "    </tr>\n",
       "  </thead>\n",
       "  <tbody>\n",
       "    <tr>\n",
       "      <th>2007</th>\n",
       "      <td>305.800714</td>\n",
       "    </tr>\n",
       "    <tr>\n",
       "      <th>2008</th>\n",
       "      <td>317.599259</td>\n",
       "    </tr>\n",
       "    <tr>\n",
       "      <th>2009</th>\n",
       "      <td>312.637931</td>\n",
       "    </tr>\n",
       "    <tr>\n",
       "      <th>2010</th>\n",
       "      <td>317.460690</td>\n",
       "    </tr>\n",
       "    <tr>\n",
       "      <th>2011</th>\n",
       "      <td>320.879667</td>\n",
       "    </tr>\n",
       "    <tr>\n",
       "      <th>2012</th>\n",
       "      <td>326.057667</td>\n",
       "    </tr>\n",
       "    <tr>\n",
       "      <th>2013</th>\n",
       "      <td>331.740667</td>\n",
       "    </tr>\n",
       "    <tr>\n",
       "      <th>2014</th>\n",
       "      <td>344.245172</td>\n",
       "    </tr>\n",
       "    <tr>\n",
       "      <th>2015</th>\n",
       "      <td>349.477143</td>\n",
       "    </tr>\n",
       "    <tr>\n",
       "      <th>2016</th>\n",
       "      <td>354.922759</td>\n",
       "    </tr>\n",
       "    <tr>\n",
       "      <th>2017</th>\n",
       "      <td>362.216552</td>\n",
       "    </tr>\n",
       "    <tr>\n",
       "      <th>2018</th>\n",
       "      <td>373.644444</td>\n",
       "    </tr>\n",
       "  </tbody>\n",
       "</table>\n",
       "</div>"
      ],
      "text/plain": [
       "            mean\n",
       "2007  305.800714\n",
       "2008  317.599259\n",
       "2009  312.637931\n",
       "2010  317.460690\n",
       "2011  320.879667\n",
       "2012  326.057667\n",
       "2013  331.740667\n",
       "2014  344.245172\n",
       "2015  349.477143\n",
       "2016  354.922759\n",
       "2017  362.216552\n",
       "2018  373.644444"
      ]
     },
     "execution_count": 36,
     "metadata": {},
     "output_type": "execute_result"
    }
   ],
   "source": [
    "pop_mean_df = pd.DataFrame(pop_mean)\n",
    "pop_mean_df"
   ]
  },
  {
   "cell_type": "code",
   "execution_count": 13,
   "metadata": {},
   "outputs": [],
   "source": [
    "Yıl = pop_mean_df.index\n",
    "Değer = pop_mean_df.values"
   ]
  },
  {
   "cell_type": "code",
   "execution_count": 37,
   "metadata": {},
   "outputs": [
    {
     "data": {
      "text/html": [
       "<div>\n",
       "<style scoped>\n",
       "    .dataframe tbody tr th:only-of-type {\n",
       "        vertical-align: middle;\n",
       "    }\n",
       "\n",
       "    .dataframe tbody tr th {\n",
       "        vertical-align: top;\n",
       "    }\n",
       "\n",
       "    .dataframe thead th {\n",
       "        text-align: right;\n",
       "    }\n",
       "</style>\n",
       "<table border=\"1\" class=\"dataframe\">\n",
       "  <thead>\n",
       "    <tr style=\"text-align: right;\">\n",
       "      <th></th>\n",
       "      <th>Yıl</th>\n",
       "      <th>Ort Pretisyen Hekim Sayısı</th>\n",
       "    </tr>\n",
       "  </thead>\n",
       "  <tbody>\n",
       "    <tr>\n",
       "      <th>0</th>\n",
       "      <td>2007</td>\n",
       "      <td>305</td>\n",
       "    </tr>\n",
       "    <tr>\n",
       "      <th>1</th>\n",
       "      <td>2008</td>\n",
       "      <td>317</td>\n",
       "    </tr>\n",
       "    <tr>\n",
       "      <th>2</th>\n",
       "      <td>2009</td>\n",
       "      <td>312</td>\n",
       "    </tr>\n",
       "    <tr>\n",
       "      <th>3</th>\n",
       "      <td>2010</td>\n",
       "      <td>317</td>\n",
       "    </tr>\n",
       "    <tr>\n",
       "      <th>4</th>\n",
       "      <td>2011</td>\n",
       "      <td>320</td>\n",
       "    </tr>\n",
       "    <tr>\n",
       "      <th>5</th>\n",
       "      <td>2012</td>\n",
       "      <td>326</td>\n",
       "    </tr>\n",
       "    <tr>\n",
       "      <th>6</th>\n",
       "      <td>2013</td>\n",
       "      <td>331</td>\n",
       "    </tr>\n",
       "    <tr>\n",
       "      <th>7</th>\n",
       "      <td>2014</td>\n",
       "      <td>344</td>\n",
       "    </tr>\n",
       "    <tr>\n",
       "      <th>8</th>\n",
       "      <td>2015</td>\n",
       "      <td>349</td>\n",
       "    </tr>\n",
       "    <tr>\n",
       "      <th>9</th>\n",
       "      <td>2016</td>\n",
       "      <td>354</td>\n",
       "    </tr>\n",
       "    <tr>\n",
       "      <th>10</th>\n",
       "      <td>2017</td>\n",
       "      <td>362</td>\n",
       "    </tr>\n",
       "    <tr>\n",
       "      <th>11</th>\n",
       "      <td>2018</td>\n",
       "      <td>373</td>\n",
       "    </tr>\n",
       "  </tbody>\n",
       "</table>\n",
       "</div>"
      ],
      "text/plain": [
       "     Yıl  Ort Pretisyen Hekim Sayısı\n",
       "0   2007                         305\n",
       "1   2008                         317\n",
       "2   2009                         312\n",
       "3   2010                         317\n",
       "4   2011                         320\n",
       "5   2012                         326\n",
       "6   2013                         331\n",
       "7   2014                         344\n",
       "8   2015                         349\n",
       "9   2016                         354\n",
       "10  2017                         362\n",
       "11  2018                         373"
      ]
     },
     "execution_count": 37,
     "metadata": {},
     "output_type": "execute_result"
    }
   ],
   "source": [
    "veri = pd.DataFrame([Yıl,Değer],index = [\"Yıl\",\"Ort Pretisyen Hekim Sayısı\"],dtype =\"int64\" ).T\n",
    "veri\n"
   ]
  },
  {
   "cell_type": "code",
   "execution_count": 38,
   "metadata": {},
   "outputs": [
    {
     "data": {
      "image/png": "[encoded data removed]",
      "text/plain": [
       "<Figure size 432x288 with 1 Axes>"
      ]
     },
     "metadata": {
      "needs_background": "light"
     },
     "output_type": "display_data"
    }
   ],
   "source": [
    "plt.scatter(veri.Yıl,veri[\"Ort Pretisyen Hekim Sayısı\"])\n",
    "plt.title(\"Yıllara göre ortalama hekim sayısı dağılımı\")\n",
    "plt.xlabel(\"Yıl\")\n",
    "plt.ylabel(\"Ort Hekim Sayısı\")\n",
    "plt.show()"
   ]
  },
  {
   "cell_type": "markdown",
   "metadata": {},
   "source": [
    "scatter plot incelendiğinde noktaların doğrusala yakın ve her iki eksen içinde düşünüldüğünde pozitif yönde olduğu görülmektedir. Bu demek oluyor ki yıl arttıkça hekim sayısı artmaktadır. Dolayısı ile artık bir hipotez elde ettik diyebiliriz. Peki gerçekten pozitif yönlü bir güçlü bir ilişkiden bahsedebilir miyiz? Korelasyon analizi ile inceleyelim."
   ]
  },
  {
   "cell_type": "code",
   "execution_count": 16,
   "metadata": {},
   "outputs": [
    {
     "data": {
      "text/html": [
       "<div>\n",
       "<style scoped>\n",
       "    .dataframe tbody tr th:only-of-type {\n",
       "        vertical-align: middle;\n",
       "    }\n",
       "\n",
       "    .dataframe tbody tr th {\n",
       "        vertical-align: top;\n",
       "    }\n",
       "\n",
       "    .dataframe thead th {\n",
       "        text-align: right;\n",
       "    }\n",
       "</style>\n",
       "<table border=\"1\" class=\"dataframe\">\n",
       "  <thead>\n",
       "    <tr style=\"text-align: right;\">\n",
       "      <th></th>\n",
       "      <th>Yıl</th>\n",
       "      <th>Ort Hekim Sayısı</th>\n",
       "    </tr>\n",
       "  </thead>\n",
       "  <tbody>\n",
       "    <tr>\n",
       "      <th>Yıl</th>\n",
       "      <td>1.000000</td>\n",
       "      <td>0.976276</td>\n",
       "    </tr>\n",
       "    <tr>\n",
       "      <th>Ort Hekim Sayısı</th>\n",
       "      <td>0.976276</td>\n",
       "      <td>1.000000</td>\n",
       "    </tr>\n",
       "  </tbody>\n",
       "</table>\n",
       "</div>"
      ],
      "text/plain": [
       "                       Yıl  Ort Hekim Sayısı\n",
       "Yıl               1.000000          0.976276\n",
       "Ort Hekim Sayısı  0.976276          1.000000"
      ]
     },
     "execution_count": 16,
     "metadata": {},
     "output_type": "execute_result"
    }
   ],
   "source": [
    "veri.corr() # Korelasyon "
   ]
  },
  {
   "cell_type": "markdown",
   "metadata": {},
   "source": [
    "corr = 0.976276"
   ]
  },
  {
   "cell_type": "markdown",
   "metadata": {},
   "source": [
    "Yıl ve ortalama hekim sayısı arasında oldukça güçlü (>.90) bir ilişki olduğunu görmekteyiz\n",
    "\n",
    "Korelasyon bize sadece ve sadece bu iki değişken arasında bir ilişki olup olmadığını ve kuvvetini söyleyebilir. Ancak regresyon öyle mi? Tabi ki hayır, regresyon bize yılın hekim sayısı üzerindeki etkisini söyleyebilir. Ancak regresyon da sadece tahmin edip bize yaklaşık bir değer üretebilir. İşte modelleme yaparken başarı oranının artırılması için yapılan optimiazyon/transformansyon gibi çalışmalar bu yüzdendir.\n",
    "\n",
    "Skatter plot ta yer alan noktaların arasında artık güçlü bir ilişki olduğunu korelasyon analizinde gördük. Peki biz bu noktaların arasından bir doğru(line) çizsek ve yeni gelecek olan değerler için yardımcı olsa, olabilir sanki. Scatter plot içindeki ilk noktaya bakalım 2007 de 275 hekim görülürken 2008 de 278 hekim görünüyor. Yani mükemmel doğrusallık bulunmuyor. Bizim öyle bir çizgi (line) belirlememiz gerekiyor ki tüm bu ortalamanın dışında kalanlar için bile yaklaşık bir tahminleme yapabilsin. O halde en popüler formül olan (E=mc²)’den sonra gelen regresyon formülünü paylaşıyorum.\n",
    "\n",
    "Y = mX + b (doğrunun eğimi)\n",
    "\n",
    "Y tahmin edilecek değer anlamında burada “Değer (hekim sayısı)” değişkenini ifade eder (dependent variable, target). X ise bağımsız değişkendir (Yordayan, independent variable, predictor). “m” eğimi verirken “b” ise sabit hata değeridir. Eğer biz doğruyu 2007 yılındaki noktadan itibaren çizmeye başlarsak formül “305 = m2007 + b” olacaktır. Doğru bu noktadan geçtiği için hata terimi 0'dır."
   ]
  },
  {
   "cell_type": "markdown",
   "metadata": {},
   "source": [
    "# Python’da Basit Lineer(Doğrusal) Regresyon Analizi"
   ]
  },
  {
   "cell_type": "markdown",
   "metadata": {},
   "source": [
    "Öncelikle Python’da bulunan Statsmodels kütüphanesi üzerinden regresyon analizi yapacağız. Bunun sebebi Statsmodels’in tek bir fonksiyonu ile modelin yorumlanmasına izin veren tabloyu verebilmesi. Model yorumundan sonra ise Sklearn kütüphanesi ile makine öğrenmesini sağlayıp test edeceğiz."
   ]
  },
  {
   "cell_type": "code",
   "execution_count": 17,
   "metadata": {},
   "outputs": [
    {
     "name": "stdout",
     "output_type": "stream",
     "text": [
      "                            OLS Regression Results                            \n",
      "==============================================================================\n",
      "Dep. Variable:       Ort Hekim Sayısı   R-squared:                       0.953\n",
      "Model:                            OLS   Adj. R-squared:                  0.948\n",
      "Method:                 Least Squares   F-statistic:                     203.3\n",
      "Date:                Sat, 29 May 2021   Prob (F-statistic):           5.69e-08\n",
      "Time:                        21:41:20   Log-Likelihood:                -35.098\n",
      "No. Observations:                  12   AIC:                             74.20\n",
      "Df Residuals:                      10   BIC:                             75.17\n",
      "Df Model:                           1                                         \n",
      "Covariance Type:            nonrobust                                         \n",
      "==============================================================================\n",
      "                 coef    std err          t      P>|t|      [0.025      0.975]\n",
      "------------------------------------------------------------------------------\n",
      "const      -1.152e+04    831.100    -13.856      0.000   -1.34e+04   -9663.852\n",
      "Yıl            5.8881      0.413     14.258      0.000       4.968       6.808\n",
      "==============================================================================\n",
      "Omnibus:                        0.979   Durbin-Watson:                   1.019\n",
      "Prob(Omnibus):                  0.613   Jarque-Bera (JB):                0.672\n",
      "Skew:                           0.524   Prob(JB):                        0.715\n",
      "Kurtosis:                       2.503   Cond. No.                     1.17e+06\n",
      "==============================================================================\n",
      "\n",
      "Warnings:\n",
      "[1] Standard Errors assume that the covariance matrix of the errors is correctly specified.\n",
      "[2] The condition number is large, 1.17e+06. This might indicate that there are\n",
      "strong multicollinearity or other numerical problems.\n"
     ]
    },
    {
     "name": "stderr",
     "output_type": "stream",
     "text": [
      "C:\\Users\\hp\\Anaconda3\\lib\\site-packages\\scipy\\stats\\stats.py:1394: UserWarning: kurtosistest only valid for n>=20 ... continuing anyway, n=12\n",
      "  \"anyway, n=%i\" % int(n))\n"
     ]
    }
   ],
   "source": [
    "import statsmodels.api as sm\n",
    "x = veri.Yıl # bağımsız değişken (independent variable)\n",
    "y_gercek = veri[\"Ort Hekim Sayısı\"] # bağımlı değişken (target, dependent variable)\n",
    "# Sabitin eklenmesi\n",
    "x = sm.add_constant(x)\n",
    "# Modelin çalıştırılması\n",
    "model = sm.OLS(y_gercek,x).fit()\n",
    "# Modelin yorumlanacağı tablo\n",
    "print(model.summary())"
   ]
  },
  {
   "cell_type": "markdown",
   "metadata": {},
   "source": [
    "[1] Standart Hatalar, hataların kovaryans matrisinin doğru şekilde belirtildiğini varsayar.\n",
    "\n",
    "[2]. Durum numarası büyük, 1.17e+06. Bu, güçlü çoklu bağlantı veya diğer sayısal problemler olduğunu gösterebilir."
   ]
  },
  {
   "cell_type": "markdown",
   "metadata": {},
   "source": [
    "Yukarıdaki kodda görüldüğü üzere önce kütüphaneleri yükledik. Sonra makinemize öğretmek için kim bağımlı (target) kim bağımsız değişken onları gösterdik. Statsmodels kütüphanesinde yer alan OLS fonksiyonunun içerisine değişkenleri tanımlayıp modeli eğittik. Eğitilen modelin çıktılarını ise değerlendirmek için yukarıdaki tabloya bir bakalım."
   ]
  },
  {
   "cell_type": "markdown",
   "metadata": {},
   "source": [
    "OLS (Ordinary Least Squared): Sıradan en küçük kareler yöntemidir. Doğrusal regresyon modeli kurulurken verilerin ortasından geçen eğime (çizgiye) en az kare farkı ile yaklaşmaya çalışan bir yöntemdir."
   ]
  },
  {
   "cell_type": "markdown",
   "metadata": {},
   "source": [
    "R-Squared (R2): Verilerin yerleştirilmiş regresyon çizgisine ne kadar yakın olduğunun istatistiksel bir ölçüsüdür. Bizim tablomuzda bu değer 0.95 olup görece iyi bir sonuç diyebiliriz. Sosyal bilimler için 0.70 üzeri ve doğa bilimleri için ise değişkenlik göstermekte olup 0.60 üzeri kabul edilebilir bir başarı ölçütü sayılabilir."
   ]
  },
  {
   "cell_type": "markdown",
   "metadata": {},
   "source": [
    "Adjusted (Düzenlenmiş) R-Squared: Bu değer genellikle çoklu regresyon analizinde kullanılır. Modele değişken eklendikçe R2 değeri değişkeni etkili varsayıp varyansını açıkladığını sanabilir. Ancak düzenlenmiş R2 mantığında her bir değişkenin bağımlı değişken üzerindeki etkisi ölçülerek daha optimum sonuçlar vermektedir. Tabloyu yorumlarken bu iki değerin birbirine yakın çıkması önemli bir konu olup bizim tablomuzda her iki değerinde (0.95-0.94) birbirine yakın olduğu görülmektedir. Bu çıktının anlamak için şöyle bir örnek verilebilir. Örneğin bir evin hem brüt hem de net metrekaresi bulunur. Brüt metrekare her şeyi içine dahil ederken net ise sadece yaşam alanına odaklanır. Dolayısı ile ev bakarken bu ikisi arasındaki farkı bilmek önemlidir. Model sonucunu incelerken de bu alana bakılması önemlidir."
   ]
  },
  {
   "cell_type": "markdown",
   "metadata": {},
   "source": [
    "Coefficients (Katsayılar): Regresyon katsayısı, iki veya daha fazla değişken arasındaki ortalama fonksiyonel ilişkinin istatistiksel bir ölçüsüdür. Summary tablosunda const için yazan yerde regresyon formülündeki sabitin değerini verirken, Yıl için yazan yerde ise yıldaki bir birimlik değişimde hekim sayısının ne kadar değişeceğini göstermektedir. Dolayısı ile regresyon tahmin yaparken buradaki katsayılardan yararlanır. Formülde yerine yerleştirecek olursak; Y(tahmin edilecek değer) = X(Yıl) * m(Eğim) + b (sabit değer). Örneğin: 2007 yılında ortalama pretsiyen hekim sayısı 305\n",
    "\n",
    "Şimdi regresyon doğrusunu çizdikten sonra bu modele göre 2007 yılındaki ortalama pretisyen hekim sayısının ne olacağını hesaplayalım. Y (ort pretisyen hekim saysı) = (2007 * 5.8881 ) + (-1.152e+04) ise tahmini gelir = 297.4167 olacaktır. Aradaki fark 7.6. Doğrusal bir model olduğu için en optimum noktadaki eğimin verdiği sonuç budur."
   ]
  },
  {
   "cell_type": "markdown",
   "metadata": {},
   "source": [
    "P-Value: Bu değer bize bağımsız değişkenden çıkan katsayının istatistiksel olarak anlamlı olup olmadığını vermektedir. Bilim dünyasında genel olarak kabul edilen anlamlılık değeri x<0.05'dir. Eğer bu değerin üzerinde bir sonuç çıkıyorsa ilgili bağımsız değişkenin modele etkisi anlamlı değildir. Bu değer, çok değişkenli regresyon analizinde değişkenlerin seçimi sırasında kullanılmaktadır. Summary'den çıkan P-Value değerinin ise .05'den küçük olduğu görülmekte olup yıl değişkeninin katsayısının istatistiksel olarak anlamlı olduğu düşünülebilir. Aslında yukarıdaki (4. madde) işlemin yapılmasından önce bu değerin kontrolünün sağlanması gerekmektedir."
   ]
  },
  {
   "cell_type": "markdown",
   "metadata": {},
   "source": [
    "Şimdi tablomuzu da incelediğimize göre model sonucunda oluşan regresyon doğrusunu yukarıda yer alan şekil 1'deki scatter plotun üzerine çizdirelim."
   ]
  },
  {
   "cell_type": "code",
   "execution_count": 39,
   "metadata": {},
   "outputs": [
    {
     "data": {
      "image/png": "[encoded data removed]",
      "text/plain": [
       "<Figure size 864x576 with 1 Axes>"
      ]
     },
     "metadata": {
      "needs_background": "light"
     },
     "output_type": "display_data"
    }
   ],
   "source": [
    "fig, ax = plt.subplots(figsize=(12, 8))\n",
    "fig = sm.graphics.plot_ccpr(model,\"Yıl\" ,ax=ax)\n",
    "plt.title(\"Basit Doğrusal Regresyon ile Yıl - Ort Hekim sayısı Tahmini\")\n",
    "plt.xlabel(\"Yıl(X): Bağımlı Değişken\")\n",
    "plt.ylabel(\"Ort Pretşsyen Hekim sayısı(Y): Bağımsız Değişken\")\n",
    "plt.show()"
   ]
  },
  {
   "cell_type": "markdown",
   "metadata": {},
   "source": [
    "regresyon doğrusu noktalar arasında en az hata yaparak çizilmiş durumda."
   ]
  },
  {
   "cell_type": "markdown",
   "metadata": {},
   "source": [
    "Peki inşa edilen modelde yaşa göre gelir ne çıkmaktadır? Bunun için önceden yazdığımız hekim sayısı (Değer) ile tahmin edilen hekim sayısını aynı tabloda yan yanan getirerek inceleyelim."
   ]
  },
  {
   "cell_type": "code",
   "execution_count": 19,
   "metadata": {},
   "outputs": [
    {
     "name": "stdout",
     "output_type": "stream",
     "text": [
      "    Gercek_Degerler  Tahmin_Degerler  tahminleme_hatalari\n",
      "0               305       301.782051             3.217949\n",
      "1               317       307.670163             9.329837\n",
      "2               312       313.558275            -1.558275\n",
      "3               317       319.446387            -2.446387\n",
      "4               320       325.334499            -5.334499\n",
      "5               326       331.222611            -5.222611\n",
      "6               331       337.110723            -6.110723\n",
      "7               344       342.998834             1.001166\n",
      "8               349       348.886946             0.113054\n",
      "9               354       354.775058            -0.775058\n",
      "10              362       360.663170             1.336830\n",
      "11              373       366.551282             6.448718\n"
     ]
    }
   ],
   "source": [
    "# Modelin var olan yıl değerleri için çalıştırılması\n",
    "y_pred_stat = model.predict(x)\n",
    "# Gerçek gelir değerleri ile tahmin edilen gelir değerlerinin birleştirilmesi\n",
    "karsilastirma = pd.DataFrame({'Gercek_Degerler': y_gercek, 'Tahmin_Degerler': y_pred_stat}).sort_index()\n",
    "# Gerçek değer ile tahmin edilen değer arasındaki hata\n",
    "karsilastirma[\"tahminleme_hatalari\"] = karsilastirma.Gercek_Degerler - karsilastirma.Tahmin_Degerler\n",
    "print(karsilastirma)"
   ]
  },
  {
   "cell_type": "markdown",
   "metadata": {},
   "source": [
    "Sklearn Üzerinden Basit Doğrusal Regresyon\n",
    "--"
   ]
  },
  {
   "cell_type": "markdown",
   "metadata": {},
   "source": [
    "Python’da makine öğrenmesi algoritması inşa ederken Sklearn kullanılmasının birçok sebebi bulunmaktadır. Pipline gibi fonksiyonlara sahip olması ve geniş bir algoritma ağının bulunması bu kütüphanede yer alması sebepleri başta gösterilebilir. Aynı veri için Sklearn’de modeli inşa edelim."
   ]
  },
  {
   "cell_type": "code",
   "execution_count": 20,
   "metadata": {},
   "outputs": [
    {
     "name": "stdout",
     "output_type": "stream",
     "text": [
      "    Gercek_Degerler  Tahmin_Degerler  tahminleme_hatalari\n",
      "0               305       301.782051             3.217949\n",
      "1               317       307.670163             9.329837\n",
      "2               312       313.558275            -1.558275\n",
      "3               317       319.446387            -2.446387\n",
      "4               320       325.334499            -5.334499\n",
      "5               326       331.222611            -5.222611\n",
      "6               331       337.110723            -6.110723\n",
      "7               344       342.998834             1.001166\n",
      "8               349       348.886946             0.113054\n",
      "9               354       354.775058            -0.775058\n",
      "10              362       360.663170             1.336830\n",
      "11              373       366.551282             6.448718\n"
     ]
    }
   ],
   "source": [
    "# Yazının başında zaten bu kütüphaneleri import etmiştik ama yeniden paylaşıyorum\n",
    "from sklearn.linear_model import LinearRegression\n",
    "from sklearn import metrics\n",
    "# Doğrusal regresyon sınıfı çağırılıyor\n",
    "lr = LinearRegression()\n",
    "\n",
    "# Model verileri içine alarak uyarlanıyor\n",
    "lr.fit(x,y_gercek)\n",
    "\n",
    "# uyarlanan model aynı yaşlar için tahmini gelir sağtıyor\n",
    "y_pred_sklearn = lr.predict(x)\n",
    "\n",
    "# Gerçek gelir değerleri ile tahmin edilen gelir değerlerinin birleştirilmesi\n",
    "karsilastirma = pd.DataFrame({'Gercek_Degerler': y_gercek, 'Tahmin_Degerler': y_pred_sklearn}).sort_index()\n",
    "# Gerçek değer ile tahmin edilen değer arasındaki hata\n",
    "karsilastirma[\"tahminleme_hatalari\"] = karsilastirma.Gercek_Degerler - karsilastirma.Tahmin_Degerler\n",
    "print(karsilastirma)"
   ]
  },
  {
   "cell_type": "markdown",
   "metadata": {},
   "source": [
    "Kodda görüldüğü üzere Sklearn kütüphanesi ile Statsmodels neredeyse aynı şekilde modeli çalıştırıyor. Ancak Sklearn kütüphanesinde Statsmodels’de olduğu gibi analiz özeti (Tablo 2) çıkarmıyor. Ancak yukarıdaki kodda yine gerçek ve tahmini gelirler ile hataları çıkarabileceğiniz karşılaştırma tablo kodunu ekledim. Ayrıca aşağıda modele dair diğer çıktıları da bulabilirsiniz."
   ]
  },
  {
   "cell_type": "code",
   "execution_count": 21,
   "metadata": {},
   "outputs": [
    {
     "name": "stdout",
     "output_type": "stream",
     "text": [
      "coefficients  [0.         5.88811189]\n",
      "intercept -11515.658508158504\n",
      "r2 score 0.9531157083864589\n",
      "Mean Squared Error: 20.32303807303637\n",
      "Root Mean Squared Error: 4.508108036974754\n"
     ]
    }
   ],
   "source": [
    "print(\"coefficients \",lr.coef_)  # katsayı\n",
    "print(\"intercept\",lr.intercept_) # Kesim noktası\n",
    "print(\"r2 score\",metrics.r2_score(y_gercek,y_pred_sklearn))\n",
    "print('Mean Squared Error:', metrics.mean_squared_error(y_gercek, y_pred_sklearn))\n",
    "print('Root Mean Squared Error:', np.sqrt(metrics.mean_squared_error(y_gercek, y_pred_sklearn)))"
   ]
  },
  {
   "cell_type": "markdown",
   "metadata": {},
   "source": [
    "Şimdi regresyon doğrusunu çizdikten sonra bu modele göre 2019 yılında kaç hekim olacağını hesaplayalım. Y (Hekim) = (2019 * 5.8881) + (-1.152e+04) ise tahmini gelir = 368.0739. Yani Avrupa ve çevresindeki ülkelerin pretisyen hekim sayısının 2019 da yaklaşık 368 olacağını söyleyebiliriz."
   ]
  },
  {
   "cell_type": "code",
   "execution_count": null,
   "metadata": {},
   "outputs": [],
   "source": []
  }
 ],
 "metadata": {
  "kernelspec": {
   "display_name": "Python 3",
   "language": "python",
   "name": "python3"
  },
  "language_info": {
   "codemirror_mode": {
    "name": "ipython",
    "version": 3
   },
   "file_extension": ".py",
   "mimetype": "text/x-python",
   "name": "python",
   "nbconvert_exporter": "python",
   "pygments_lexer": "ipython3",
   "version": "3.7.1"
  }
 },
 "nbformat": 4,
 "nbformat_minor": 2
}
